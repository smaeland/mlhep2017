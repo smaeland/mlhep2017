{
 "cells": [
  {
   "cell_type": "markdown",
   "metadata": {},
   "source": [
    "TODO:\n",
    " - For each track:\n",
    "     - Compute distance from track start to closest electron position\n",
    "     - Compute angle between track and closest electron\n",
    "     \n",
    "     ...\n",
    "     - Compute distance from starting point to electron entry\n",
    "     - Compute angle wrt to electron incidence angle\n",
    "         - (Combine in IP vector)\n",
    "     - Plot standardized features -> consider transforms"
   ]
  },
  {
   "cell_type": "code",
   "execution_count": null,
   "metadata": {},
   "outputs": [],
   "source": [
    "#!git remote add upstream https://github.com/yandexdataschool/mlhep2017.git\n",
    "#!git remote -v\n",
    "#!git fetch upstream master\n",
    "#!git merge upstream/master -m \"Merge\"\n",
    "#!git push origin"
   ]
  },
  {
   "cell_type": "code",
   "execution_count": 1,
   "metadata": {
    "collapsed": true
   },
   "outputs": [],
   "source": [
    "import numpy as np\n",
    "import pandas as pd\n",
    "from matplotlib import pyplot as plt"
   ]
  },
  {
   "cell_type": "code",
   "execution_count": 2,
   "metadata": {},
   "outputs": [
    {
     "name": "stdout",
     "output_type": "stream",
     "text": [
      "7.5K\t/data_mlhep2017/episode1/DS_1_electron_test.csv\r\n",
      "9.0K\t/data_mlhep2017/episode1/DS_1_electron_train.csv\r\n",
      "94M\t/data_mlhep2017/episode1/DS_1_test.csv\r\n",
      "103M\t/data_mlhep2017/episode1/DS_1_train.csv\r\n"
     ]
    }
   ],
   "source": [
    "!du -h /data_mlhep2017/episode1/*"
   ]
  },
  {
   "cell_type": "code",
   "execution_count": 3,
   "metadata": {},
   "outputs": [
    {
     "name": "stderr",
     "output_type": "stream",
     "text": [
      "/opt/conda/lib/python3.6/site-packages/numpy/lib/arraysetops.py:395: FutureWarning: elementwise comparison failed; returning scalar instead, but in the future will perform elementwise comparison\n",
      "  mask |= (ar1 == a)\n"
     ]
    }
   ],
   "source": [
    "# Read track dataset\n",
    "dtracks = pd.read_csv('/data_mlhep2017/episode1/DS_1_train.csv', index_col=0)\n",
    "\n",
    "# Read shower dataset\n",
    "dshower = pd.read_csv('/data_mlhep2017/episode1/DS_1_electron_train.csv', index_col=0)"
   ]
  },
  {
   "cell_type": "code",
   "execution_count": null,
   "metadata": {},
   "outputs": [],
   "source": [
    "#print (\"Tracks: (shape =\", dtracks.shape)\n",
    "#dtracks.head()\n"
   ]
  },
  {
   "cell_type": "code",
   "execution_count": null,
   "metadata": {},
   "outputs": [],
   "source": [
    "#print (\"Electron showers:\")\n",
    "#dshower.head()"
   ]
  },
  {
   "cell_type": "code",
   "execution_count": 4,
   "metadata": {},
   "outputs": [
    {
     "name": "stderr",
     "output_type": "stream",
     "text": [
      "/opt/conda/lib/python3.6/site-packages/numpy/lib/arraysetops.py:395: FutureWarning: elementwise comparison failed; returning scalar instead, but in the future will perform elementwise comparison\n",
      "  mask |= (ar1 == a)\n"
     ]
    }
   ],
   "source": [
    "# Read test datasets\n",
    "dtracks_test = pd.read_csv('/data_mlhep2017/episode1/DS_1_test.csv', index_col=0)\n",
    "dshower_test = pd.read_csv('/data_mlhep2017/episode1/DS_1_electron_test.csv', index_col=0)"
   ]
  },
  {
   "cell_type": "code",
   "execution_count": null,
   "metadata": {},
   "outputs": [],
   "source": [
    "#print (\"Test track set:\")\n",
    "#dtracks_test.head()"
   ]
  },
  {
   "cell_type": "code",
   "execution_count": null,
   "metadata": {},
   "outputs": [],
   "source": [
    "#print (\"Test electron set:\")\n",
    "#dshower_test.head()"
   ]
  },
  {
   "cell_type": "markdown",
   "metadata": {},
   "source": [
    "## Limit train set\n",
    "**TODO:** remove"
   ]
  },
  {
   "cell_type": "code",
   "execution_count": null,
   "metadata": {},
   "outputs": [],
   "source": [
    "dtracks_signal = dtracks[dtracks.signal == True][:50000]\n",
    "#print (dtracks_signal.iloc[0])\n",
    "dtracks_bgnd = dtracks[dtracks.signal == False][:50000]\n",
    "#print (dtracks_bgnd.iloc[0])\n",
    "dtracks = pd.concat([dtracks_signal, dtracks_bgnd])\n",
    "#dtracks.shape\n",
    "dtracks = dtracks.sample(frac=1)\n",
    "dtracks.head()\n",
    "#print (dtracks.iloc[0])"
   ]
  },
  {
   "cell_type": "code",
   "execution_count": null,
   "metadata": {},
   "outputs": [],
   "source": [
    "dtracks.tail()"
   ]
  },
  {
   "cell_type": "markdown",
   "metadata": {},
   "source": [
    "## Feature engineering\n",
    "\n",
    "#### Distance to electron position, angle between track and electron"
   ]
  },
  {
   "cell_type": "code",
   "execution_count": null,
   "metadata": {
    "scrolled": true
   },
   "outputs": [
    {
     "name": "stdout",
     "output_type": "stream",
     "text": [
      "index: 0\n",
      "index: 10000\n",
      "index: 20000\n",
      "index: 30000\n",
      "index: 40000\n",
      "index: 50000\n",
      "index: 60000\n",
      "index: 70000\n",
      "index: 80000\n",
      "index: 90000\n",
      "index: 100000\n",
      "index: 110000\n",
      "index: 120000\n",
      "index: 130000\n",
      "index: 140000\n",
      "index: 150000\n",
      "index: 160000\n",
      "index: 170000\n",
      "index: 180000\n",
      "index: 190000\n",
      "index: 200000\n",
      "index: 210000\n",
      "index: 220000\n",
      "index: 230000\n",
      "index: 240000\n",
      "index: 250000\n",
      "index: 260000\n",
      "index: 270000\n",
      "index: 280000\n",
      "index: 290000\n",
      "index: 300000\n",
      "index: 310000\n",
      "index: 320000\n",
      "index: 330000\n",
      "index: 340000\n",
      "index: 350000\n",
      "index: 360000\n",
      "index: 370000\n",
      "index: 380000\n",
      "index: 390000\n",
      "index: 400000\n",
      "index: 410000\n",
      "index: 420000\n",
      "index: 430000\n",
      "index: 440000\n",
      "index: 450000\n",
      "index: 460000\n",
      "index: 470000\n",
      "index: 480000\n",
      "index: 490000\n",
      "index: 500000\n",
      "index: 510000\n",
      "index: 520000\n",
      "index: 530000\n",
      "index: 540000\n",
      "index: 550000\n",
      "index: 560000\n",
      "index: 570000\n",
      "index: 580000\n",
      "index: 590000\n",
      "index: 600000\n",
      "index: 610000\n",
      "index: 620000\n",
      "index: 630000\n",
      "index: 640000\n",
      "index: 650000\n",
      "index: 660000\n",
      "index: 670000\n",
      "index: 680000\n",
      "index: 690000\n",
      "index: 700000\n",
      "index: 710000\n",
      "index: 720000\n",
      "index: 730000\n",
      "index: 740000\n",
      "index: 750000\n",
      "index: 760000\n",
      "index: 770000\n",
      "index: 780000\n",
      "index: 790000\n",
      "index: 800000\n",
      "index: 810000\n",
      "index: 820000\n",
      "index: 830000\n",
      "index: 840000\n",
      "index: 850000\n",
      "index: 860000\n",
      "index: 870000\n",
      "index: 880000\n",
      "index: 890000\n",
      "index: 900000\n",
      "index: 910000\n",
      "index: 920000\n",
      "index: 930000\n",
      "index: 940000\n",
      "index: 950000\n",
      "index: 1040000\n",
      "index: 1050000\n",
      "index: 1060000\n",
      "index: 1070000\n"
     ]
    }
   ],
   "source": [
    "def dist(x1, y1, z1, x2, y2, z2):\n",
    "    return np.sqrt((x1-x2)**2 + (y1-y2)**2 + (z1-z2)**2)\n",
    "\n",
    "def index_of_closest_electron(edataset, x, y, z):\n",
    "    dmin = np.min(dist(x, y, z, edataset['X'], edataset['Y'], edataset['Z']))\n",
    "    return np.where(dist(x, y, z, edataset['X'], edataset['Y'], edataset['Z']) == dmin)[0][0]\n",
    "\n",
    "# Compute distance between track start and closest electron, append this to the dataframe\n",
    "if not 'dist_to_electron' in list(dtracks):\n",
    "    dtracks['dist_to_electron'] = pd.Series(np.zeros(dtracks.shape[0]), index=dtracks.index)\n",
    "if not 'angle_to_electron' in list(dtracks):\n",
    "    dtracks['angle_to_electron'] = pd.Series(np.zeros(dtracks.shape[0]), index=dtracks.index)\n",
    "\n",
    "for index, row in dtracks.iterrows():\n",
    "    \n",
    "    try:\n",
    "        closest_e = dshower.iloc[index_of_closest_electron(dshower, row['X'], row['Y'], row['Z'])]\n",
    "        #print (closest_e)\n",
    "    \n",
    "        dtracks.set_value(index, 'dist_to_electron', dist(closest_e['X'], closest_e['Y'], closest_e['Z'], row['X'], row['Y'], row['Z']))\n",
    "        dtracks.set_value(index, 'angle_to_electron', dist(closest_e['TX'], closest_e['TY'], 0, row['TX'], row['TY'], 0))\n",
    "\n",
    "    except:\n",
    "        dtracks.set_value(index, 'dist_to_electron', 99999)\n",
    "        dtracks.set_value(index, 'angle_to_electron', 99999)\n",
    "        \n",
    "    if index % 10000 == 0:\n",
    "        print (\"index:\", index)\n",
    "        #print (row)\n",
    "\n",
    "        \n",
    "# Do the same for the test set\n",
    "if not 'dist_to_electron' in list(dtracks_test):\n",
    "    dtracks_test['dist_to_electron'] = pd.Series(np.zeros(dtracks_test.shape[0]), index=dtracks_test.index)\n",
    "if not 'angle_to_electron' in list(dtracks_test):\n",
    "    dtracks_test['angle_to_electron'] = pd.Series(np.zeros(dtracks_test.shape[0]), index=dtracks_test.index)\n",
    "\n",
    "for index, row in dtracks_test.iterrows():\n",
    "    \n",
    "    try:\n",
    "        closest_e = dshower_test.iloc[index_of_closest_electron(dshower_test, row['X'], row['Y'], row['Z'])]\n",
    "        dtracks_test.set_value(index, 'dist_to_electron', dist(closest_e['X'], closest_e['Y'], closest_e['Z'], row['X'], row['Y'], row['Z']))\n",
    "        dtracks_test.set_value(index, 'angle_to_electron', dist(closest_e['TX'], closest_e['TY'], 0, row['TX'], row['TY'], 0))\n",
    "    except:\n",
    "        dtracks_test.set_value(index, 'dist_to_electron', 99999)\n",
    "        dtracks_test.set_value(index, 'angle_to_electron', 99999)\n",
    "    \n",
    "# Save the output\n",
    "dtracks.to_csv('DS_1_train_augmented.csv', header=True)\n",
    "dtracks_test.to_csv('DS_1_test_augmented.csv', header=True)\n"
   ]
  },
  {
   "cell_type": "markdown",
   "metadata": {},
   "source": [
    "## Plot before scaling"
   ]
  },
  {
   "cell_type": "code",
   "execution_count": null,
   "metadata": {},
   "outputs": [],
   "source": [
    "import matplotlib.pyplot as plt\n",
    "%matplotlib inline\n",
    "\n",
    "for feature in list(dtracks):\n",
    "    print (feature)\n",
    "    plt.title(feature)\n",
    "    #plt.hist( dtracks[feature])\n",
    "    plt.hist(dtracks[dtracks['signal'] == 0][feature], histtype='step', label='bgnd', normed=True)\n",
    "    plt.hist(dtracks[dtracks['signal'] == 1][feature], histtype='step', label='signal', normed=True)\n",
    "    plt.legend(loc='best')\n",
    "    plt.show()"
   ]
  },
  {
   "cell_type": "markdown",
   "metadata": {},
   "source": [
    "## Feature scaling"
   ]
  },
  {
   "cell_type": "code",
   "execution_count": null,
   "metadata": {},
   "outputs": [],
   "source": [
    "# First, strip the targets from features\n",
    "\n",
    "feature_list = ['X', 'Y', 'Z', 'TX', 'TY', 'chi2', 'dist_to_electron', 'angle_to_electron']\n",
    "#feature_list = ['X', 'Y', 'Z', 'TX', 'TY', 'chi2']\n",
    "\n",
    "X = np.array(dtracks[feature_list].values[:])\n",
    "y = np.array(dtracks['signal'].values[:])\n",
    "print (\"X.shape:\", X.shape)\n",
    "print (\"Y.shape:\", y.shape)\n",
    "print (X[:3])\n",
    "print (y[:3])\n",
    "\n",
    "# Validation split\n",
    "from sklearn.model_selection import train_test_split\n",
    "X_train, X_val, y_train, y_val = train_test_split(X, y, test_size=0.33, random_state=42)\n",
    "\n",
    "from sklearn.preprocessing import StandardScaler\n",
    "scaler = StandardScaler().fit(X_train)\n",
    "X_train = scaler.transform(X_train)\n",
    "X_val = scaler.transform(X_val)"
   ]
  },
  {
   "cell_type": "markdown",
   "metadata": {},
   "source": [
    "## Create model and train"
   ]
  },
  {
   "cell_type": "code",
   "execution_count": null,
   "metadata": {},
   "outputs": [],
   "source": [
    "from sklearn.svm import SVC\n",
    "from sklearn.tree import DecisionTreeClassifier\n",
    "from sklearn.neural_network import MLPClassifier\n",
    "\n",
    "#model = SVC(kernel='rbf', probability=True)\n",
    "#model = DecisionTreeClassifier()\n",
    "model = MLPClassifier(hidden_layer_sizes=(40, ))\n",
    "\n",
    "model.fit(X_train, y_train)\n",
    "train_predictions = model.predict_proba(X_train)[:, 1]\n",
    "\n",
    "# Validate\n",
    "val_predictions = model.predict_proba(X_val)[:, 1]\n",
    "\n",
    "print('y_val:', y_val[:3])\n",
    "print('val_pred:', val_predictions[:3])\n",
    "\n",
    "# ROC\n",
    "from sklearn.metrics import roc_curve, auc, roc_auc_score\n",
    "fpr_train, tpr_train, _ = roc_curve(y_train, train_predictions)\n",
    "roc_auc = auc(fpr_train, tpr_train)\n",
    "plt.plot(fpr_train, tpr_train, label='train')\n",
    "print (\"AUC train:\", roc_auc_score(y_train, train_predictions))\n",
    "\n",
    "fpr_val, tpr_val, _ = roc_curve(y_val, val_predictions)\n",
    "roc_auc = auc(fpr_val, tpr_val)\n",
    "plt.plot(fpr_val, tpr_val, label='test')\n",
    "plt.legend(loc='best')\n",
    "plt.show()\n",
    "\n",
    "print (\"AUC val:\", roc_auc_score(y_val, val_predictions))"
   ]
  },
  {
   "cell_type": "markdown",
   "metadata": {},
   "source": [
    "## Test set predictions"
   ]
  },
  {
   "cell_type": "code",
   "execution_count": null,
   "metadata": {},
   "outputs": [],
   "source": [
    "X_test = np.array(dtracks_test[feature_list].values[:])\n",
    "X_test = scaler.transform(X_test)\n",
    "\n",
    "test_predictions = model.predict_proba(X_test)[:, 1]\n",
    "\n",
    "output = pd.DataFrame(test_predictions, columns=['Prediction'])\n",
    "output.index.name = 'Id'\n",
    "output.to_csv('predictions.csv', header=True)"
   ]
  },
  {
   "cell_type": "code",
   "execution_count": 6,
   "metadata": {},
   "outputs": [
    {
     "name": "stdout",
     "output_type": "stream",
     "text": [
      "\u001b[?1h\u001b=\u001b[H\u001b[2J\u001b[mtop - 07:43:43 up 181 days, 22:47,  0 users,  load average: 1.00, 1.18, 1.15\u001b[m\u001b[m\u001b[m\u001b[m\u001b[K\n",
      "Tasks:\u001b[m\u001b[m\u001b[1m  47 \u001b[m\u001b[mtotal,\u001b[m\u001b[m\u001b[1m   2 \u001b[m\u001b[mrunning,\u001b[m\u001b[m\u001b[1m   9 \u001b[m\u001b[msleeping,\u001b[m\u001b[m\u001b[1m   0 \u001b[m\u001b[mstopped,\u001b[m\u001b[m\u001b[1m  36 \u001b[m\u001b[mzombie\u001b[m\u001b[m\u001b[m\u001b[m\u001b[K\n",
      "%Cpu(s):\u001b[m\u001b[m\u001b[1m  6.4 \u001b[m\u001b[mus,\u001b[m\u001b[m\u001b[1m  0.3 \u001b[m\u001b[msy,\u001b[m\u001b[m\u001b[1m  0.0 \u001b[m\u001b[mni,\u001b[m\u001b[m\u001b[1m 93.2 \u001b[m\u001b[mid,\u001b[m\u001b[m\u001b[1m  0.0 \u001b[m\u001b[mwa,\u001b[m\u001b[m\u001b[1m  0.0 \u001b[m\u001b[mhi,\u001b[m\u001b[m\u001b[1m  0.0 \u001b[m\u001b[msi,\u001b[m\u001b[m\u001b[1m  0.0 \u001b[m\u001b[mst\u001b[m\u001b[m\u001b[m\u001b[m\u001b[K\n",
      "KiB Mem :\u001b[m\u001b[m\u001b[1m 50316992 \u001b[m\u001b[mtotal,\u001b[m\u001b[m\u001b[1m 10362384 \u001b[m\u001b[mfree,\u001b[m\u001b[m\u001b[1m  6854744 \u001b[m\u001b[mused,\u001b[m\u001b[m\u001b[1m 33099864 \u001b[m\u001b[mbuff/cache\u001b[m\u001b[m\u001b[m\u001b[m\u001b[K\n",
      "KiB Swap:\u001b[m\u001b[m\u001b[1m        0 \u001b[m\u001b[mtotal,\u001b[m\u001b[m\u001b[1m        0 \u001b[m\u001b[mfree,\u001b[m\u001b[m\u001b[1m        0 \u001b[m\u001b[mused.\u001b[m\u001b[m\u001b[1m 43031120 \u001b[m\u001b[mavail Mem \u001b[m\u001b[m\u001b[m\u001b[m\u001b[K\n",
      "\u001b[K\n",
      "\u001b[7m  PID USER      PR  NI    VIRT    RES    SHR S  %CPU %MEM     TIME+ COMMAND     \u001b[m\u001b[m\u001b[K\n",
      "\u001b[m\u001b[1m 2067 root      20   0 2484456 466372  24060 R 106.7  0.9  33:12.59 python      \u001b[m\u001b[m\u001b[K\n",
      "\u001b[m    1 root      20   0  378596  76544   3772 S   0.0  0.2   4:12.42 jupyterhub+ \u001b[m\u001b[m\u001b[K\n",
      "\u001b[m   60 root      20   0 2308108 310112    448 S   0.0  0.6   8:13.33 python      \u001b[m\u001b[m\u001b[K\n",
      "\u001b[m   92 root      20   0 3452968 265664   1264 S   0.0  0.5   0:24.34 python      \u001b[m\u001b[m\u001b[K\n",
      "\u001b[m  266 root      20   0       0      0      0 Z   0.0  0.0   0:00.00 sh          \u001b[m\u001b[m\u001b[K\n",
      "\u001b[m  288 root      20   0       0      0      0 Z   0.0  0.0   0:00.00 git         \u001b[m\u001b[m\u001b[K\n",
      "\u001b[m  295 root      20   0       0      0      0 Z   0.0  0.0   0:00.01 git         \u001b[m\u001b[m\u001b[K\n",
      "\u001b[m  296 root      20   0       0      0      0 Z   0.0  0.0   0:00.05 editor      \u001b[m\u001b[m\u001b[K\n",
      "\u001b[m  311 root      20   0       0      0      0 Z   0.0  0.0   0:00.01 git         \u001b[m\u001b[m\u001b[K\n",
      "\u001b[m  312 root      20   0       0      0      0 Z   0.0  0.0   0:00.03 editor      \u001b[m\u001b[m\u001b[K\n",
      "\u001b[m  526 root      20   0       0      0      0 Z   0.0  0.0   0:00.02 bash        \u001b[m\u001b[m\u001b[K\n",
      "\u001b[m  802 root      20   0       0      0      0 Z   0.0  0.0   0:00.03 make        \u001b[m\u001b[m\u001b[K\n",
      "\u001b[m  928 root      20   0       0      0      0 Z   0.0  0.0   0:00.00 sh          \u001b[m\u001b[m\u001b[K\n",
      "\u001b[m  933 root      20   0       0      0      0 Z   0.0  0.0   0:00.00 sh          \u001b[m\u001b[m\u001b[K\n",
      "\u001b[m  983 root      20   0       0      0      0 Z   0.0  0.0   0:00.00 g++         \u001b[m\u001b[m\u001b[K\n",
      "\u001b[m  990 root      20   0       0      0      0 Z   0.0  0.0   0:00.00 g++         \u001b[m\u001b[m\u001b[K\n",
      "\u001b[m  993 root      20   0       0      0      0 Z   0.0  0.0   0:00.00 g++         \u001b[m\u001b[m\u001b[K\u001b[?1l\u001b>\u001b[25;1H\n",
      "\u001b[K"
     ]
    }
   ],
   "source": [
    "!top"
   ]
  },
  {
   "cell_type": "code",
   "execution_count": null,
   "metadata": {
    "collapsed": true
   },
   "outputs": [],
   "source": []
  }
 ],
 "metadata": {
  "kernelspec": {
   "display_name": "Python 3",
   "language": "python",
   "name": "python3"
  },
  "language_info": {
   "codemirror_mode": {
    "name": "ipython",
    "version": 3
   },
   "file_extension": ".py",
   "mimetype": "text/x-python",
   "name": "python",
   "nbconvert_exporter": "python",
   "pygments_lexer": "ipython3",
   "version": "3.6.1"
  }
 },
 "nbformat": 4,
 "nbformat_minor": 2
}
